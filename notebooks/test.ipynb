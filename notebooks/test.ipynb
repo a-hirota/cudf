{
 "cells": [
  {
   "cell_type": "code",
   "execution_count": 1,
   "id": "fa61b219-581f-45d4-b512-06bfdc4c1139",
   "metadata": {},
   "outputs": [],
   "source": [
    "import cudf"
   ]
  },
  {
   "cell_type": "markdown",
   "id": "7ed30f6d-7afd-4a1b-8b89-d01d911d30c0",
   "metadata": {},
   "source": [
    "## 元の実績"
   ]
  },
  {
   "cell_type": "code",
   "execution_count": 4,
   "id": "8fa4d458-bc4f-4c59-8a50-4292528b1029",
   "metadata": {},
   "outputs": [
    {
     "name": "stdout",
     "output_type": "stream",
     "text": [
      "float\n",
      "<class 'type'>        a\n",
      "0  1.000\n",
      "1  2.054\n",
      "2  3.010\n",
      "<class 'type'>      a\n",
      "0  1.0\n",
      "1  2.1\n",
      "2  3.0\n",
      "decimal\n",
      "<class 'cudf.core.dtypes.Decimal32Dtype'>       a\n",
      "0  1.00\n",
      "1  2.05\n",
      "2  3.01\n",
      "<class 'cudf.core.dtypes.Decimal32Dtype'>       a\n",
      "0  1.00\n",
      "1  2.05\n",
      "2  3.01\n"
     ]
    }
   ],
   "source": [
    "def check(t):\n",
    "    a = cudf.DataFrame( { 'a' : [1.00, 2.054, 3.01]} ).astype(t)\n",
    "    print( type(t),a)\n",
    "    a = a.round(decimals=1)\n",
    "    print(type(t), a)\n",
    "\n",
    "print('float')\n",
    "check(float)\n",
    "print('decimal')\n",
    "check(cudf.Decimal32Dtype(precision=3, scale=2))"
   ]
  },
  {
   "cell_type": "markdown",
   "id": "f8d8de2b-9bf9-45ac-8953-181f6de844c4",
   "metadata": {},
   "source": [
    "## 改修後\n",
    "\n",
    "    cols = (\n",
    "        col.round(decimals[name], how=how)\n",
    "        if name in decimals and (\n",
    "            col.dtype.kind in \"fiu\" or \n",
    "            isinstance(col.dtype, (cudf.Decimal32Dtype, cudf.Decimal64Dtype))\n",
    "        )\n",
    "        else col.copy(deep=True)\n",
    "        for name, col in self._column_labels_and_values"
   ]
  },
  {
   "cell_type": "code",
   "execution_count": 6,
   "id": "6df9ca22-da3a-4456-b7da-186a746d751e",
   "metadata": {},
   "outputs": [
    {
     "name": "stdout",
     "output_type": "stream",
     "text": [
      "float\n",
      "<class 'type'>        a\n",
      "0  1.000\n",
      "1  2.054\n",
      "2  3.010\n",
      "<class 'type'>      a\n",
      "0  1.0\n",
      "1  2.1\n",
      "2  3.0\n",
      "decimal\n",
      "<class 'cudf.core.dtypes.Decimal32Dtype'>       a\n",
      "0  1.00\n",
      "1  2.05\n",
      "2  3.01\n",
      "<class 'cudf.core.dtypes.Decimal32Dtype'>       a\n",
      "0  1.00\n",
      "1  2.05\n",
      "2  3.01\n"
     ]
    }
   ],
   "source": [
    "def check(t):\n",
    "    a = cudf.DataFrame( { 'a' : [1.00, 2.054, 3.01]} ).astype(t)\n",
    "    print( type(t),a)\n",
    "    a = a.round(decimals=1)\n",
    "    print(type(t), a)\n",
    "\n",
    "print('float')\n",
    "check(float)\n",
    "print('decimal')\n",
    "check(cudf.Decimal32Dtype(precision=3, scale=2))"
   ]
  },
  {
   "cell_type": "markdown",
   "id": "db35ea7d-3b18-44bb-bede-3a07743a3a0a",
   "metadata": {},
   "source": [
    "## 改修（\"fiu\"外す）\n",
    "\n",
    "\n",
    "            col.round(decimals[name], how=how)\n",
    "            if name in decimals\n",
    "              #and (\n",
    "              #  col.dtype.kind in \"fiu\" or\n",
    "              #  isinstance(col.dtype, (cudf.Decimal32Dtype, cudf.Decimal64Dtype))\n",
    "              #  )\n",
    "            else col.copy(deep=True)\n",
    "            for name, col in self._column_labels_and_values"
   ]
  },
  {
   "cell_type": "code",
   "execution_count": 2,
   "id": "9b2e4d00-1ba0-44a6-a0bc-1a7c8c6b5540",
   "metadata": {},
   "outputs": [
    {
     "name": "stdout",
     "output_type": "stream",
     "text": [
      "float\n",
      "<class 'type'>        a\n",
      "0  1.000\n",
      "1  2.054\n",
      "2  3.010\n",
      "<class 'type'>      a\n",
      "0  1.0\n",
      "1  2.1\n",
      "2  3.0\n",
      "decimal\n",
      "<class 'cudf.core.dtypes.Decimal32Dtype'>       a\n",
      "0  1.00\n",
      "1  2.05\n",
      "2  3.01\n",
      "<class 'cudf.core.dtypes.Decimal32Dtype'>       a\n",
      "0  1.00\n",
      "1  2.05\n",
      "2  3.01\n"
     ]
    }
   ],
   "source": [
    "def check(t):\n",
    "    a = cudf.DataFrame( { 'a' : [1.00, 2.054, 3.01]} ).astype(t)\n",
    "    print( type(t),a)\n",
    "    a = a.round(decimals=1)\n",
    "    print(type(t), a)\n",
    "\n",
    "print('float')\n",
    "check(float)\n",
    "print('decimal')\n",
    "check(cudf.Decimal32Dtype(precision=3, scale=2))"
   ]
  },
  {
   "cell_type": "code",
   "execution_count": null,
   "id": "c39117df-629e-4876-bd35-40baf0f3ab26",
   "metadata": {},
   "outputs": [],
   "source": []
  }
 ],
 "metadata": {
  "kernelspec": {
   "display_name": "Python 3 (ipykernel)",
   "language": "python",
   "name": "python3"
  },
  "language_info": {
   "codemirror_mode": {
    "name": "ipython",
    "version": 3
   },
   "file_extension": ".py",
   "mimetype": "text/x-python",
   "name": "python",
   "nbconvert_exporter": "python",
   "pygments_lexer": "ipython3",
   "version": "3.12.7"
  }
 },
 "nbformat": 4,
 "nbformat_minor": 5
}
